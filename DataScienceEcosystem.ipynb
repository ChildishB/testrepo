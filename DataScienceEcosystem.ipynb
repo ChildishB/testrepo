{
 "cells": [
  {
   "cell_type": "markdown",
   "id": "e56110d5-b356-4ffa-8874-0b2370ef64cb",
   "metadata": {},
   "source": [
    "# Data Science Tools and Ecosystem"
   ]
  },
  {
   "cell_type": "markdown",
   "id": "63c4a775-107b-4592-a812-32cde0f823a8",
   "metadata": {},
   "source": [
    "## Author\n",
    "Brandon E"
   ]
  },
  {
   "cell_type": "markdown",
   "id": "50ac879f-d737-4a2e-b4aa-38a5d8fb92c6",
   "metadata": {},
   "source": [
    "In this notebook, Data Science Tools and Ecosystem are summarized."
   ]
  },
  {
   "cell_type": "markdown",
   "id": "83f45b7b-3974-41a7-9153-984956beb3ef",
   "metadata": {},
   "source": [
    "**Objectives:**\n",
    "- List popular languages for data science\n",
    "- List commonly used libraries for data scientists\n",
    "- List popular used tools for data science\n",
    "- How to evaluate arithmetic expressions in Python"
   ]
  },
  {
   "cell_type": "markdown",
   "id": "ed0aa8d7-85ab-48fb-b856-e0954270fbf1",
   "metadata": {},
   "source": [
    "Some of the popular languages that Data Scientists use are:\n",
    "\n",
    "1. R\n",
    "2. Python\n",
    "3. Julia\n",
    "4. Swift"
   ]
  },
  {
   "cell_type": "markdown",
   "id": "25424815-c967-4d94-8f49-4a81a8a5ae1a",
   "metadata": {},
   "source": [
    "Some of the commonly used libraries used by Data Scientists include:\n",
    "\n",
    "1. Pandas\n",
    "2. Matplotlib\n",
    "3. Apache Spark\n",
    "4. TensorFlow\n"
   ]
  },
  {
   "cell_type": "markdown",
   "id": "ac0ff519-b918-43e9-80f8-36625d227ea8",
   "metadata": {},
   "source": [
    "| Data Science Tools |\n",
    "| ------------------ |\n",
    "| Spyder |\n",
    "| Jupyter |\n",
    "| RStudio |\n",
    " "
   ]
  },
  {
   "cell_type": "markdown",
   "id": "452e0d69-f6fa-478a-b10b-84c16c19ae39",
   "metadata": {},
   "source": [
    "### Below are a few examples of evaluating arithmetic expressions in Python\n"
   ]
  },
  {
   "cell_type": "code",
   "execution_count": 14,
   "id": "a9d6886b-ab82-4b4d-891a-437e9f8425e9",
   "metadata": {},
   "outputs": [
    {
     "data": {
      "text/plain": [
       "17"
      ]
     },
     "execution_count": 14,
     "metadata": {},
     "output_type": "execute_result"
    }
   ],
   "source": [
    "# This a simple arithmetic expression to mutiply then add integers\n",
    "(3*4)+5"
   ]
  },
  {
   "cell_type": "code",
   "execution_count": 26,
   "id": "071f8e75-40c2-4b12-96f1-62fbf85ad6e9",
   "metadata": {},
   "outputs": [
    {
     "data": {
      "text/plain": [
       "3.3333333333333335"
      ]
     },
     "execution_count": 26,
     "metadata": {},
     "output_type": "execute_result"
    }
   ],
   "source": [
    "# This will convert 200 minutes to hours by diving by 60\n",
    "\n",
    "200/60"
   ]
  }
 ],
 "metadata": {
  "kernelspec": {
   "display_name": "Python 3 (ipykernel)",
   "language": "python",
   "name": "python3"
  },
  "language_info": {
   "codemirror_mode": {
    "name": "ipython",
    "version": 3
   },
   "file_extension": ".py",
   "mimetype": "text/x-python",
   "name": "python",
   "nbconvert_exporter": "python",
   "pygments_lexer": "ipython3",
   "version": "3.12.7"
  }
 },
 "nbformat": 4,
 "nbformat_minor": 5
}
